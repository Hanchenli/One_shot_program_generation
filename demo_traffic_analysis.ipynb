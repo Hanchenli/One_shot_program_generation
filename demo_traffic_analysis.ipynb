{
 "cells": [
  {
   "cell_type": "code",
   "execution_count": null,
   "metadata": {},
   "outputs": [],
   "source": [
    "import csv  \n",
    "import json\n",
    "import pandas as pd\n",
    "from chat import LLM\n",
    "\n",
    "key_path = \"my_API_key.json\"\n",
    "llm = LLM(key_path) \n",
    "\n",
    "prompt = \"Write Python function to generate fibonacci sequence. Only include the function and don't include example usages.\"\n",
    "code = llm.generate_code(prompt)\n",
    "\n",
    "\n",
    "print(code)\n",
    "\n"
   ]
  }
 ],
 "metadata": {
  "language_info": {
   "name": "python"
  }
 },
 "nbformat": 4,
 "nbformat_minor": 2
}
